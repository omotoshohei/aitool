{
 "cells": [
  {
   "cell_type": "code",
   "execution_count": null,
   "id": "5d216040",
   "metadata": {},
   "outputs": [],
   "source": [
    "    # openai.api_key = st.secrets['OPENAI_API_KEY']\n",
    "\n",
    "    # # Create a prompt based on the top complaints for the restaurant\n",
    "    # prompt = f\"The following are the top customer complaints for {name}: {complaint_texts}. Can you suggest improvements for the restaurant within 100 words?\"\n",
    "    # # Make a request to the API to generate text\n",
    "    # response = openai.ChatCompletion.create(\n",
    "    #     model=\"gpt-3.5-turbo\",  # Use the engine of your choice\n",
    "    #     messages = [{\"role\": \"user\", \"content\": prompt}],\n",
    "    #     max_tokens = 100\n",
    "    # )\n",
    "\n",
    "    # st.write(response[\"choices\"][0][\"message\"][\"content\"])"
   ]
  }
 ],
 "metadata": {
  "kernelspec": {
   "display_name": "Python 3 (ipykernel)",
   "language": "python",
   "name": "python3"
  },
  "language_info": {
   "codemirror_mode": {
    "name": "ipython",
    "version": 3
   },
   "file_extension": ".py",
   "mimetype": "text/x-python",
   "name": "python",
   "nbconvert_exporter": "python",
   "pygments_lexer": "ipython3",
   "version": "3.10.6"
  },
  "toc": {
   "base_numbering": 1,
   "nav_menu": {},
   "number_sections": true,
   "sideBar": true,
   "skip_h1_title": false,
   "title_cell": "Table of Contents",
   "title_sidebar": "Contents",
   "toc_cell": false,
   "toc_position": {},
   "toc_section_display": true,
   "toc_window_display": false
  }
 },
 "nbformat": 4,
 "nbformat_minor": 5
}
